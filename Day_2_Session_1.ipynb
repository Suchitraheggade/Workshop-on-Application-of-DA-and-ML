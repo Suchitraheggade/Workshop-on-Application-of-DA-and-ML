{
  "nbformat": 4,
  "nbformat_minor": 0,
  "metadata": {
    "colab": {
      "name": "Day 2 Session 1",
      "provenance": [],
      "authorship_tag": "ABX9TyN6kg/QEWI3f0ozPqnlN3G0",
      "include_colab_link": true
    },
    "kernelspec": {
      "name": "python3",
      "display_name": "Python 3"
    }
  },
  "cells": [
    {
      "cell_type": "markdown",
      "metadata": {
        "id": "view-in-github",
        "colab_type": "text"
      },
      "source": [
        "<a href=\"https://colab.research.google.com/github/Suchitraheggade/Workshop-on-Application-of-Python-Program/blob/master/Day_2_Session_1.ipynb\" target=\"_parent\"><img src=\"https://colab.research.google.com/assets/colab-badge.svg\" alt=\"Open In Colab\"/></a>"
      ]
    },
    {
      "cell_type": "markdown",
      "metadata": {
        "id": "Q3N9oLVeSEiM",
        "colab_type": "text"
      },
      "source": [
        "Print multiples of 3 upto 200 using a list"
      ]
    },
    {
      "cell_type": "code",
      "metadata": {
        "id": "WpCFlaxMVEhx",
        "colab_type": "code",
        "colab": {
          "base_uri": "https://localhost:8080/",
          "height": 54
        },
        "outputId": "976d7cc0-d8f3-470b-f0a7-f1a0f5d85ffa"
      },
      "source": [
        "print([i for i in range(1,200) if i%3==0])"
      ],
      "execution_count": null,
      "outputs": [
        {
          "output_type": "stream",
          "text": [
            "[3, 6, 9, 12, 15, 18, 21, 24, 27, 30, 33, 36, 39, 42, 45, 48, 51, 54, 57, 60, 63, 66, 69, 72, 75, 78, 81, 84, 87, 90, 93, 96, 99, 102, 105, 108, 111, 114, 117, 120, 123, 126, 129, 132, 135, 138, 141, 144, 147, 150, 153, 156, 159, 162, 165, 168, 171, 174, 177, 180, 183, 186, 189, 192, 195, 198]\n"
          ],
          "name": "stdout"
        }
      ]
    },
    {
      "cell_type": "markdown",
      "metadata": {
        "id": "0mMpLLTcSPJ6",
        "colab_type": "text"
      },
      "source": [
        "print the nos only divisable by 5 and 7 between 1000 and 2000 using a list( both inclusive)"
      ]
    },
    {
      "cell_type": "code",
      "metadata": {
        "id": "htotwGUKXCHx",
        "colab_type": "code",
        "colab": {}
      },
      "source": [
        "print([i for i in range(1000,2001) if i%5==0 and i%7==0])\n"
      ],
      "execution_count": null,
      "outputs": []
    },
    {
      "cell_type": "markdown",
      "metadata": {
        "id": "xzdfp1taSqvY",
        "colab_type": "text"
      },
      "source": [
        "Add the n number of names in a list and print them alphabetically and reverse alphabetically.\n"
      ]
    },
    {
      "cell_type": "code",
      "metadata": {
        "id": "ZHQIqcUyZMo1",
        "colab_type": "code",
        "colab": {
          "base_uri": "https://localhost:8080/",
          "height": 151
        },
        "outputId": "4843a2cc-f3f6-4c6d-b656-9cffbf3911d6"
      },
      "source": [
        "a=[input() for i in range(int(input(\"Enter The N Value: \")))]\n",
        "a.sort()\n",
        "print(a)\n",
        "print(a[-1::-1])"
      ],
      "execution_count": 10,
      "outputs": [
        {
          "output_type": "stream",
          "text": [
            "Enter The N Value: 5\n",
            "suchithra\n",
            "Heggade\n",
            "Chandrahas\n",
            "Yasodha\n",
            "Suhas\n",
            "['Chandrahas', 'Heggade', 'Suhas', 'Yasodha', 'suchithra']\n",
            "['suchithra', 'Yasodha', 'Suhas', 'Heggade', 'Chandrahas']\n"
          ],
          "name": "stdout"
        }
      ]
    },
    {
      "cell_type": "markdown",
      "metadata": {
        "id": "oH-Hv8qwS3wp",
        "colab_type": "text"
      },
      "source": [
        "Print perfect squares and divisible by 5 between 500 and 1000( (both inclusive) using list\n"
      ]
    },
    {
      "cell_type": "code",
      "metadata": {
        "id": "pTjEckQSZ4Gs",
        "colab_type": "code",
        "colab": {
          "base_uri": "https://localhost:8080/",
          "height": 34
        },
        "outputId": "6904d660-3370-47b2-8cb9-192b0ec27d58"
      },
      "source": [
        "import math\n",
        "print([i for i in range(500,1001) if math.sqrt(i)==int(math.sqrt(i)) and i%5==0])"
      ],
      "execution_count": 11,
      "outputs": [
        {
          "output_type": "stream",
          "text": [
            "[625, 900]\n"
          ],
          "name": "stdout"
        }
      ]
    },
    {
      "cell_type": "markdown",
      "metadata": {
        "id": "zO2ZTxkRTY4W",
        "colab_type": "text"
      },
      "source": [
        "Get a string and store word by word as elements in a tuple and find the largest word in the tuple and print it"
      ]
    },
    {
      "cell_type": "code",
      "metadata": {
        "id": "UG2CwPQeS8Ct",
        "colab_type": "code",
        "colab": {
          "base_uri": "https://localhost:8080/",
          "height": 67
        },
        "outputId": "bff62fc6-d882-4a6d-a016-54f910c61790"
      },
      "source": [
        "s=input(\"Enter The String: \")\n",
        "print(tuple(s.split(\" \")))\n",
        "print(max(tuple(s.split(\" \"))))"
      ],
      "execution_count": null,
      "outputs": [
        {
          "output_type": "stream",
          "text": [
            "Enter The String: suchithra heggade\n",
            "('suchithra', 'heggade')\n",
            "suchithra\n"
          ],
          "name": "stdout"
        }
      ]
    },
    {
      "cell_type": "markdown",
      "metadata": {
        "id": "oIiddspIaBLk",
        "colab_type": "text"
      },
      "source": [
        "Get rollno and marks (Rollno, mark) as list of tuples for n number of students through keyboard and print them in marks descending order with rollno."
      ]
    },
    {
      "cell_type": "code",
      "metadata": {
        "id": "lhgZDqAjT8rc",
        "colab_type": "code",
        "colab": {
          "base_uri": "https://localhost:8080/",
          "height": 151
        },
        "outputId": "a681789d-2ad1-4206-cb32-582781af5209"
      },
      "source": [
        "import operator\n",
        "t=[(input(f\"Enter The Roll Number Of Student-{i+1}: \"),int(input(f\"Enter The Marks Of Student-{i+1}: \"))) for i in range(int(input(\"Enter The Number Of Students: \")))]\n",
        "d=dict(t)\n",
        "print(list(sorted(d.items(), key=operator.itemgetter(1), reverse=True)))\n"
      ],
      "execution_count": 12,
      "outputs": [
        {
          "output_type": "stream",
          "text": [
            "Enter The Number Of Students: 3\n",
            "Enter The Roll Number Of Student-1: 1\n",
            "Enter The Marks Of Student-1: 95\n",
            "Enter The Roll Number Of Student-2: 2\n",
            "Enter The Marks Of Student-2: 93\n",
            "Enter The Roll Number Of Student-3: 3\n",
            "Enter The Marks Of Student-3: 92\n",
            "[('1', 95), ('2', 93), ('3', 92)]\n"
          ],
          "name": "stdout"
        }
      ]
    },
    {
      "cell_type": "markdown",
      "metadata": {
        "id": "Er4KCIUNafRo",
        "colab_type": "text"
      },
      "source": [
        "Get name and salary (name, salary) as list of tuples for n number of employees through keyboard and print them in name alphabetical order with salary"
      ]
    },
    {
      "cell_type": "code",
      "metadata": {
        "id": "tBEOOgp5afC7",
        "colab_type": "code",
        "colab": {
          "base_uri": "https://localhost:8080/",
          "height": 151
        },
        "outputId": "71865274-91f1-4218-e28b-4457487f01f5"
      },
      "source": [
        "import operator\n",
        "t=[(input(f\"Enter The Name Of Employee-{i+1}: \"),int(input(f\"Enter The Salary Of Employee-{i+1}: \"))) for i in range(int(input(\"Enter The Number Of Employee: \")))]\n",
        "d=dict(t)\n",
        "print(list(sorted(d.items(), key=operator.itemgetter(0))))"
      ],
      "execution_count": 13,
      "outputs": [
        {
          "output_type": "stream",
          "text": [
            "Enter The Number Of Employee: 3\n",
            "Enter The Name Of Employee-1: Suchithra\n",
            "Enter The Salary Of Employee-1: 2000\n",
            "Enter The Name Of Employee-2: Shwetha\n",
            "Enter The Salary Of Employee-2: 50000\n",
            "Enter The Name Of Employee-3: Apoorva\n",
            "Enter The Salary Of Employee-3: 4000\n",
            "[('Apoorva', 4000), ('Shwetha', 50000), ('Suchithra', 2000)]\n"
          ],
          "name": "stdout"
        }
      ]
    }
  ]
}