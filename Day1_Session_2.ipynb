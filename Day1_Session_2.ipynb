{
  "nbformat": 4,
  "nbformat_minor": 0,
  "metadata": {
    "colab": {
      "name": "Day1 Session 2.ipynb",
      "provenance": [],
      "authorship_tag": "ABX9TyNBo2uHKAtJeoVSZiqlFQ+E",
      "include_colab_link": true
    },
    "kernelspec": {
      "name": "python3",
      "display_name": "Python 3"
    }
  },
  "cells": [
    {
      "cell_type": "markdown",
      "metadata": {
        "id": "view-in-github",
        "colab_type": "text"
      },
      "source": [
        "<a href=\"https://colab.research.google.com/github/Suchitraheggade/Workshop-on-Application-of-Python-Program/blob/master/Day1_Session_2.ipynb\" target=\"_parent\"><img src=\"https://colab.research.google.com/assets/colab-badge.svg\" alt=\"Open In Colab\"/></a>"
      ]
    },
    {
      "cell_type": "markdown",
      "metadata": {
        "id": "2JPtRNLjskaB",
        "colab_type": "text"
      },
      "source": [
        "3.Find the no of words and characters in a string"
      ]
    },
    {
      "cell_type": "markdown",
      "metadata": {
        "id": "0uCP_QYIs0r8",
        "colab_type": "text"
      },
      "source": [
        "4.Find the length of a string without using len functions"
      ]
    },
    {
      "cell_type": "code",
      "metadata": {
        "id": "E5NLTfEeul4X",
        "colab_type": "code",
        "colab": {}
      },
      "source": [
        ""
      ],
      "execution_count": 0,
      "outputs": []
    },
    {
      "cell_type": "markdown",
      "metadata": {
        "id": "AY7_GjTitcck",
        "colab_type": "text"
      },
      "source": [
        " 5.Find the no of occurrences of a word in a string\n"
      ]
    },
    {
      "cell_type": "markdown",
      "metadata": {
        "id": "VcRzsR9drI4u",
        "colab_type": "text"
      },
      "source": [
        "1.Write a program to print the triangle\n"
      ]
    },
    {
      "cell_type": "code",
      "metadata": {
        "id": "4kxl8Bxvt7vP",
        "colab_type": "code",
        "colab": {
          "base_uri": "https://localhost:8080/",
          "height": 34
        },
        "outputId": "c1a32f4e-8865-4b13-ad3a-912ad04aad6b"
      },
      "source": [
        "def countOccurences(str, word):   \n",
        "    a = str.split(\" \") \n",
        "    count = 0\n",
        "    for i in range(0, len(a)): \n",
        "        if (word == a[i]): \n",
        "           count = count + 1       \n",
        "    return count        \n",
        "str =\"python is very easy to learn and python is dynamically typed \"\n",
        "word =\"python\"\n",
        "print(countOccurences(str, word))"
      ],
      "execution_count": 11,
      "outputs": [
        {
          "output_type": "stream",
          "text": [
            "2\n"
          ],
          "name": "stdout"
        }
      ]
    },
    {
      "cell_type": "code",
      "metadata": {
        "id": "o6ZNeEK0spWz",
        "colab_type": "code",
        "colab": {
          "base_uri": "https://localhost:8080/",
          "height": 50
        },
        "outputId": "1bd0d6ad-fb6f-49f1-dc19-21b5f240f88f"
      },
      "source": [
        "str = input(\"Enter a string: \")\n",
        "counter = 0\n",
        "for s in str:\n",
        "      counter = counter+1\n",
        "print(\"Length of the input string is:\", counter)"
      ],
      "execution_count": 4,
      "outputs": [
        {
          "output_type": "stream",
          "text": [
            "Enter a string: Python\n",
            "Length of the input string is: 6\n"
          ],
          "name": "stdout"
        }
      ]
    },
    {
      "cell_type": "code",
      "metadata": {
        "id": "POfbUvq5sZoQ",
        "colab_type": "code",
        "colab": {
          "base_uri": "https://localhost:8080/",
          "height": 101
        },
        "outputId": "baa60566-49e0-4c49-e947-667aafc7b74c"
      },
      "source": [
        "string=input(\"Enter string:\")\n",
        "char=0\n",
        "word=1\n",
        "for i in string:\n",
        "      char=char+1\n",
        "      if(i==' '):\n",
        "            word=word+1\n",
        "print(\"Number of words in the string:\")\n",
        "print(word)\n",
        "print(\"Number of characters in the string:\")\n",
        "print(char)"
      ],
      "execution_count": 3,
      "outputs": [
        {
          "output_type": "stream",
          "text": [
            "Enter string:Suchithra\n",
            "Number of words in the string:\n",
            "1\n",
            "Number of characters in the string:\n",
            "9\n"
          ],
          "name": "stdout"
        }
      ]
    },
    {
      "cell_type": "markdown",
      "metadata": {
        "id": "Skld2LcGvDCd",
        "colab_type": "text"
      },
      "source": [
        "2.python program to print pattern\n"
      ]
    },
    {
      "cell_type": "code",
      "metadata": {
        "id": "Uj3i6wuluwto",
        "colab_type": "code",
        "colab": {
          "base_uri": "https://localhost:8080/",
          "height": 420
        },
        "outputId": "ad544087-908c-4233-be03-87b0be93eda3"
      },
      "source": [
        "rows =int(input(\"enter num: \")) \n",
        "for i in range(0, rows):   \n",
        "     for j in range(0, i + 1):       \n",
        "        print(\"*\", end=' ')\n",
        " \n",
        "     print(\"\\r\")\n",
        " "
      ],
      "execution_count": 13,
      "outputs": [
        {
          "output_type": "stream",
          "text": [
            "enter num: 23\n",
            "* \n",
            "* * \n",
            "* * * \n",
            "* * * * \n",
            "* * * * * \n",
            "* * * * * * \n",
            "* * * * * * * \n",
            "* * * * * * * * \n",
            "* * * * * * * * * \n",
            "* * * * * * * * * * \n",
            "* * * * * * * * * * * \n",
            "* * * * * * * * * * * * \n",
            "* * * * * * * * * * * * * \n",
            "* * * * * * * * * * * * * * \n",
            "* * * * * * * * * * * * * * * \n",
            "* * * * * * * * * * * * * * * * \n",
            "* * * * * * * * * * * * * * * * * \n",
            "* * * * * * * * * * * * * * * * * * \n",
            "* * * * * * * * * * * * * * * * * * * \n",
            "* * * * * * * * * * * * * * * * * * * * \n",
            "* * * * * * * * * * * * * * * * * * * * * \n",
            "* * * * * * * * * * * * * * * * * * * * * * \n",
            "* * * * * * * * * * * * * * * * * * * * * * * \n"
          ],
          "name": "stdout"
        }
      ]
    },
    {
      "cell_type": "code",
      "metadata": {
        "id": "Zf6EXO72qj06",
        "colab_type": "code",
        "colab": {
          "base_uri": "https://localhost:8080/",
          "height": 151
        },
        "outputId": "b51d587c-c07b-44ed-c585-ff11df5cb8cf"
      },
      "source": [
        "k=1\n",
        "n=int(input(\"enter n value: \"))\n",
        "for i in range(0,n): \n",
        "  if(i>=2): \n",
        "    k=i+1 \n",
        "  for j in range(0,i+1):  \n",
        "     print(k,end=\" \")  \n",
        "     k=k+1\n",
        "  print()"
      ],
      "execution_count": 2,
      "outputs": [
        {
          "output_type": "stream",
          "text": [
            "enter n value: 7\n",
            "1 \n",
            "2 3 \n",
            "3 4 5 \n",
            "4 5 6 7 \n",
            "5 6 7 8 9 \n",
            "6 7 8 9 10 11 \n",
            "7 8 9 10 11 12 13 \n"
          ],
          "name": "stdout"
        }
      ]
    }
  ]
}