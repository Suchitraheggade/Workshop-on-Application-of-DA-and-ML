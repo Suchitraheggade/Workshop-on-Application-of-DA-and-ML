{
  "nbformat": 4,
  "nbformat_minor": 0,
  "metadata": {
    "colab": {
      "name": "Day 3 Session 2  .ipynb",
      "provenance": [],
      "include_colab_link": true
    },
    "kernelspec": {
      "name": "python3",
      "display_name": "Python 3"
    }
  },
  "cells": [
    {
      "cell_type": "markdown",
      "metadata": {
        "id": "view-in-github",
        "colab_type": "text"
      },
      "source": [
        "<a href=\"https://colab.research.google.com/github/Suchitraheggade/Workshop-on-Application-of-Python-Program/blob/master/Day_3_Session_2_.ipynb\" target=\"_parent\"><img src=\"https://colab.research.google.com/assets/colab-badge.svg\" alt=\"Open In Colab\"/></a>"
      ]
    },
    {
      "cell_type": "markdown",
      "metadata": {
        "id": "BtV7QkshfKli",
        "colab_type": "text"
      },
      "source": [
        "#Write a Pandas program to create and display a one-dimensional array using series  containing  event numbers upto 10000\n",
        "tip : use List Comprehension\n",
        "ds = pd.Series([0,2, 4, 6, 8..... 10000]) \n"
      ]
    },
    {
      "cell_type": "code",
      "metadata": {
        "id": "5fqAcrjYfrdc",
        "colab_type": "code",
        "colab": {
          "base_uri": "https://localhost:8080/",
          "height": 225
        },
        "outputId": "94e48664-4a8f-40fc-a996-36d72131d3e1"
      },
      "source": [
        "import pandas as pd\n",
        "import numpy as np\n",
        "l1=([i for i in range(1,1000) if i%2==0])\n",
        "s1=pd.Series(l1)\n",
        "print(s1)"
      ],
      "execution_count": null,
      "outputs": [
        {
          "output_type": "stream",
          "text": [
            "0        2\n",
            "1        4\n",
            "2        6\n",
            "3        8\n",
            "4       10\n",
            "      ... \n",
            "494    990\n",
            "495    992\n",
            "496    994\n",
            "497    996\n",
            "498    998\n",
            "Length: 499, dtype: int64\n"
          ],
          "name": "stdout"
        }
      ]
    },
    {
      "cell_type": "markdown",
      "metadata": {
        "id": "45uFPk1ahvwa",
        "colab_type": "text"
      },
      "source": [
        "# *Write a Pandas program to convert a Panda module Series of the numbers which are between 1000 and 2000 (both inclusive) and divisable by 5 to Python list and  after convertion print its type *"
      ]
    },
    {
      "cell_type": "code",
      "metadata": {
        "id": "opzh9l-egwxZ",
        "colab_type": "code",
        "colab": {
          "base_uri": "https://localhost:8080/",
          "height": 225
        },
        "outputId": "f384e5c7-faa3-45b0-d56e-25d7c5e1cda6"
      },
      "source": [
        "import pandas as pd\n",
        "import numpy as np\n",
        "s1=pd.Series([x for x in range(1000,2000) if x%5==0])\n",
        "print(s1)\n"
      ],
      "execution_count": null,
      "outputs": [
        {
          "output_type": "stream",
          "text": [
            "0      1000\n",
            "1      1005\n",
            "2      1010\n",
            "3      1015\n",
            "4      1020\n",
            "       ... \n",
            "195    1975\n",
            "196    1980\n",
            "197    1985\n",
            "198    1990\n",
            "199    1995\n",
            "Length: 200, dtype: int64\n"
          ],
          "name": "stdout"
        }
      ]
    },
    {
      "cell_type": "markdown",
      "metadata": {
        "id": "cdvcZiOrbtgz",
        "colab_type": "text"
      },
      "source": [
        "# Write a Pandas program to add, subtract, multiple and divide two Pandas Series and print their results using the Sample Series: [2, 4, 6, 8, ...100], [1, 3, 5, 7, 9...99]"
      ]
    },
    {
      "cell_type": "code",
      "metadata": {
        "id": "SLYzu7Htbxu1",
        "colab_type": "code",
        "colab": {
          "base_uri": "https://localhost:8080/",
          "height": 1000
        },
        "outputId": "5e52eb6a-7950-429f-85b6-de818bac0090"
      },
      "source": [
        "import pandas as pd\n",
        "import numpy as np\n",
        "l1=([i for i in range(1,100) if i%2==0])\n",
        "s1=pd.Series(l1)\n",
        "l2=([i for i in range(1,100) if i%2!=0])\n",
        "s2=pd.Series(l2)\n",
        "print(\"add s= \")\n",
        "print(s1+s2)\n",
        "print(\"sub s= \",s1+s2)\n",
        "print(\"mul s=\",s1*s2)\n",
        "print(\"div s=\",s1/s2)\n"
      ],
      "execution_count": null,
      "outputs": [
        {
          "output_type": "stream",
          "text": [
            "add s= \n",
            "0       3.0\n",
            "1       7.0\n",
            "2      11.0\n",
            "3      15.0\n",
            "4      19.0\n",
            "5      23.0\n",
            "6      27.0\n",
            "7      31.0\n",
            "8      35.0\n",
            "9      39.0\n",
            "10     43.0\n",
            "11     47.0\n",
            "12     51.0\n",
            "13     55.0\n",
            "14     59.0\n",
            "15     63.0\n",
            "16     67.0\n",
            "17     71.0\n",
            "18     75.0\n",
            "19     79.0\n",
            "20     83.0\n",
            "21     87.0\n",
            "22     91.0\n",
            "23     95.0\n",
            "24     99.0\n",
            "25    103.0\n",
            "26    107.0\n",
            "27    111.0\n",
            "28    115.0\n",
            "29    119.0\n",
            "30    123.0\n",
            "31    127.0\n",
            "32    131.0\n",
            "33    135.0\n",
            "34    139.0\n",
            "35    143.0\n",
            "36    147.0\n",
            "37    151.0\n",
            "38    155.0\n",
            "39    159.0\n",
            "40    163.0\n",
            "41    167.0\n",
            "42    171.0\n",
            "43    175.0\n",
            "44    179.0\n",
            "45    183.0\n",
            "46    187.0\n",
            "47    191.0\n",
            "48    195.0\n",
            "49      NaN\n",
            "dtype: float64\n",
            "sub s=  0       3.0\n",
            "1       7.0\n",
            "2      11.0\n",
            "3      15.0\n",
            "4      19.0\n",
            "5      23.0\n",
            "6      27.0\n",
            "7      31.0\n",
            "8      35.0\n",
            "9      39.0\n",
            "10     43.0\n",
            "11     47.0\n",
            "12     51.0\n",
            "13     55.0\n",
            "14     59.0\n",
            "15     63.0\n",
            "16     67.0\n",
            "17     71.0\n",
            "18     75.0\n",
            "19     79.0\n",
            "20     83.0\n",
            "21     87.0\n",
            "22     91.0\n",
            "23     95.0\n",
            "24     99.0\n",
            "25    103.0\n",
            "26    107.0\n",
            "27    111.0\n",
            "28    115.0\n",
            "29    119.0\n",
            "30    123.0\n",
            "31    127.0\n",
            "32    131.0\n",
            "33    135.0\n",
            "34    139.0\n",
            "35    143.0\n",
            "36    147.0\n",
            "37    151.0\n",
            "38    155.0\n",
            "39    159.0\n",
            "40    163.0\n",
            "41    167.0\n",
            "42    171.0\n",
            "43    175.0\n",
            "44    179.0\n",
            "45    183.0\n",
            "46    187.0\n",
            "47    191.0\n",
            "48    195.0\n",
            "49      NaN\n",
            "dtype: float64\n",
            "mul s= 0        2.0\n",
            "1       12.0\n",
            "2       30.0\n",
            "3       56.0\n",
            "4       90.0\n",
            "5      132.0\n",
            "6      182.0\n",
            "7      240.0\n",
            "8      306.0\n",
            "9      380.0\n",
            "10     462.0\n",
            "11     552.0\n",
            "12     650.0\n",
            "13     756.0\n",
            "14     870.0\n",
            "15     992.0\n",
            "16    1122.0\n",
            "17    1260.0\n",
            "18    1406.0\n",
            "19    1560.0\n",
            "20    1722.0\n",
            "21    1892.0\n",
            "22    2070.0\n",
            "23    2256.0\n",
            "24    2450.0\n",
            "25    2652.0\n",
            "26    2862.0\n",
            "27    3080.0\n",
            "28    3306.0\n",
            "29    3540.0\n",
            "30    3782.0\n",
            "31    4032.0\n",
            "32    4290.0\n",
            "33    4556.0\n",
            "34    4830.0\n",
            "35    5112.0\n",
            "36    5402.0\n",
            "37    5700.0\n",
            "38    6006.0\n",
            "39    6320.0\n",
            "40    6642.0\n",
            "41    6972.0\n",
            "42    7310.0\n",
            "43    7656.0\n",
            "44    8010.0\n",
            "45    8372.0\n",
            "46    8742.0\n",
            "47    9120.0\n",
            "48    9506.0\n",
            "49       NaN\n",
            "dtype: float64\n",
            "div s= 0     2.000000\n",
            "1     1.333333\n",
            "2     1.200000\n",
            "3     1.142857\n",
            "4     1.111111\n",
            "5     1.090909\n",
            "6     1.076923\n",
            "7     1.066667\n",
            "8     1.058824\n",
            "9     1.052632\n",
            "10    1.047619\n",
            "11    1.043478\n",
            "12    1.040000\n",
            "13    1.037037\n",
            "14    1.034483\n",
            "15    1.032258\n",
            "16    1.030303\n",
            "17    1.028571\n",
            "18    1.027027\n",
            "19    1.025641\n",
            "20    1.024390\n",
            "21    1.023256\n",
            "22    1.022222\n",
            "23    1.021277\n",
            "24    1.020408\n",
            "25    1.019608\n",
            "26    1.018868\n",
            "27    1.018182\n",
            "28    1.017544\n",
            "29    1.016949\n",
            "30    1.016393\n",
            "31    1.015873\n",
            "32    1.015385\n",
            "33    1.014925\n",
            "34    1.014493\n",
            "35    1.014085\n",
            "36    1.013699\n",
            "37    1.013333\n",
            "38    1.012987\n",
            "39    1.012658\n",
            "40    1.012346\n",
            "41    1.012048\n",
            "42    1.011765\n",
            "43    1.011494\n",
            "44    1.011236\n",
            "45    1.010989\n",
            "46    1.010753\n",
            "47    1.010526\n",
            "48    1.010309\n",
            "49         NaN\n",
            "dtype: float64\n"
          ],
          "name": "stdout"
        }
      ]
    },
    {
      "cell_type": "markdown",
      "metadata": {
        "id": "sUJXmXghiAyj",
        "colab_type": "text"
      },
      "source": [
        "## Write a Pandas program to compare (Equivalence, greater than, less than, not equal to )the elements of the two Pandas Series.\n",
        "Sample Series: [All positive numbers divisable by 7 upto 1000], [All positive numbers divisable by 11 upto 1000]\n"
      ]
    },
    {
      "cell_type": "code",
      "metadata": {
        "id": "D4TKPWQniE7j",
        "colab_type": "code",
        "colab": {
          "base_uri": "https://localhost:8080/",
          "height": 1000
        },
        "outputId": "22b3937f-636d-4a8c-b53a-d1de832d61db"
      },
      "source": [
        "import pandas as pd\n",
        "import numpy as np\n",
        "s1=pd.Series([i for i in range(1,1000) if i%7==0])\n",
        "s1=pd.Series([i for i in range(1,1000) if i%11==0])\n",
        "print(\"Compare the elements of the said Series:\")\n",
        "print(\"Equals:\")\n",
        "for i in range (len(s2)):\n",
        "  print(i,\" \",s1[i]==s2[i])\n",
        "print(\"Greater than:\")\n",
        "for i in range(len(s2)):\n",
        "  print(i,\" \",s1[i]>s2[i])\n",
        "print(\"Less than:\")\n",
        "for i in range(len(s2)):\n",
        "  print(i,\" \",s1[i]<s2[i])\n",
        "print(\"not Equal\")\n",
        "for i in range(len(s2)):\n",
        "  print(i,\" \",s1[i]!=s2[i])\n"
      ],
      "execution_count": null,
      "outputs": [
        {
          "output_type": "stream",
          "text": [
            "Compare the elements of the said Series:\n",
            "Equals:\n",
            "0   False\n",
            "1   False\n",
            "2   False\n",
            "3   False\n",
            "4   False\n",
            "5   False\n",
            "6   False\n",
            "7   False\n",
            "8   False\n",
            "9   False\n",
            "10   False\n",
            "11   False\n",
            "12   False\n",
            "13   False\n",
            "14   False\n",
            "15   False\n",
            "16   False\n",
            "17   False\n",
            "18   False\n",
            "19   False\n",
            "20   False\n",
            "21   False\n",
            "22   False\n",
            "23   False\n",
            "24   False\n",
            "25   False\n",
            "26   False\n",
            "27   False\n",
            "28   False\n",
            "29   False\n",
            "30   False\n",
            "31   False\n",
            "32   False\n",
            "33   False\n",
            "34   False\n",
            "35   False\n",
            "36   False\n",
            "37   False\n",
            "38   False\n",
            "39   False\n",
            "40   False\n",
            "41   False\n",
            "42   False\n",
            "43   False\n",
            "44   False\n",
            "45   False\n",
            "46   False\n",
            "47   False\n",
            "48   False\n",
            "49   False\n",
            "Greater than:\n",
            "0   True\n",
            "1   True\n",
            "2   True\n",
            "3   True\n",
            "4   True\n",
            "5   True\n",
            "6   True\n",
            "7   True\n",
            "8   True\n",
            "9   True\n",
            "10   True\n",
            "11   True\n",
            "12   True\n",
            "13   True\n",
            "14   True\n",
            "15   True\n",
            "16   True\n",
            "17   True\n",
            "18   True\n",
            "19   True\n",
            "20   True\n",
            "21   True\n",
            "22   True\n",
            "23   True\n",
            "24   True\n",
            "25   True\n",
            "26   True\n",
            "27   True\n",
            "28   True\n",
            "29   True\n",
            "30   True\n",
            "31   True\n",
            "32   True\n",
            "33   True\n",
            "34   True\n",
            "35   True\n",
            "36   True\n",
            "37   True\n",
            "38   True\n",
            "39   True\n",
            "40   True\n",
            "41   True\n",
            "42   True\n",
            "43   True\n",
            "44   True\n",
            "45   True\n",
            "46   True\n",
            "47   True\n",
            "48   True\n",
            "49   True\n",
            "Less than:\n",
            "0   False\n",
            "1   False\n",
            "2   False\n",
            "3   False\n",
            "4   False\n",
            "5   False\n",
            "6   False\n",
            "7   False\n",
            "8   False\n",
            "9   False\n",
            "10   False\n",
            "11   False\n",
            "12   False\n",
            "13   False\n",
            "14   False\n",
            "15   False\n",
            "16   False\n",
            "17   False\n",
            "18   False\n",
            "19   False\n",
            "20   False\n",
            "21   False\n",
            "22   False\n",
            "23   False\n",
            "24   False\n",
            "25   False\n",
            "26   False\n",
            "27   False\n",
            "28   False\n",
            "29   False\n",
            "30   False\n",
            "31   False\n",
            "32   False\n",
            "33   False\n",
            "34   False\n",
            "35   False\n",
            "36   False\n",
            "37   False\n",
            "38   False\n",
            "39   False\n",
            "40   False\n",
            "41   False\n",
            "42   False\n",
            "43   False\n",
            "44   False\n",
            "45   False\n",
            "46   False\n",
            "47   False\n",
            "48   False\n",
            "49   False\n",
            "not Equal\n",
            "0   True\n",
            "1   True\n",
            "2   True\n",
            "3   True\n",
            "4   True\n",
            "5   True\n",
            "6   True\n",
            "7   True\n",
            "8   True\n",
            "9   True\n",
            "10   True\n",
            "11   True\n",
            "12   True\n",
            "13   True\n",
            "14   True\n",
            "15   True\n",
            "16   True\n",
            "17   True\n",
            "18   True\n",
            "19   True\n",
            "20   True\n",
            "21   True\n",
            "22   True\n",
            "23   True\n",
            "24   True\n",
            "25   True\n",
            "26   True\n",
            "27   True\n",
            "28   True\n",
            "29   True\n",
            "30   True\n",
            "31   True\n",
            "32   True\n",
            "33   True\n",
            "34   True\n",
            "35   True\n",
            "36   True\n",
            "37   True\n",
            "38   True\n",
            "39   True\n",
            "40   True\n",
            "41   True\n",
            "42   True\n",
            "43   True\n",
            "44   True\n",
            "45   True\n",
            "46   True\n",
            "47   True\n",
            "48   True\n",
            "49   True\n"
          ],
          "name": "stdout"
        }
      ]
    },
    {
      "cell_type": "markdown",
      "metadata": {
        "id": "QrPQfVNJOCCl",
        "colab_type": "text"
      },
      "source": [
        "## Write a Pandas program to convert a NumPy array to a Pandas series. \n",
        "Sample NumPy array: d1 = [10, 20, 30, 40, 50... 1000]\n"
      ]
    },
    {
      "cell_type": "code",
      "metadata": {
        "id": "BKq74KxcODrn",
        "colab_type": "code",
        "colab": {
          "base_uri": "https://localhost:8080/",
          "height": 364
        },
        "outputId": "2c179898-837f-4fd4-ee8e-3ac8d2ec3275"
      },
      "source": [
        "import numpy as np\n",
        "import pandas as pd\n",
        "np_array = np.array([i for i in range(1,1000) if i%10==0])\n",
        "print(\"NumPy array:\")\n",
        "print(np_array)\n",
        "new_series = pd.Series(np_array)\n",
        "print(\"Converted Pandas series:\")\n",
        "print(new_series)"
      ],
      "execution_count": null,
      "outputs": [
        {
          "output_type": "stream",
          "text": [
            "NumPy array:\n",
            "[ 10  20  30  40  50  60  70  80  90 100 110 120 130 140 150 160 170 180\n",
            " 190 200 210 220 230 240 250 260 270 280 290 300 310 320 330 340 350 360\n",
            " 370 380 390 400 410 420 430 440 450 460 470 480 490 500 510 520 530 540\n",
            " 550 560 570 580 590 600 610 620 630 640 650 660 670 680 690 700 710 720\n",
            " 730 740 750 760 770 780 790 800 810 820 830 840 850 860 870 880 890 900\n",
            " 910 920 930 940 950 960 970 980 990]\n",
            "Converted Pandas series:\n",
            "0      10\n",
            "1      20\n",
            "2      30\n",
            "3      40\n",
            "4      50\n",
            "     ... \n",
            "94    950\n",
            "95    960\n",
            "96    970\n",
            "97    980\n",
            "98    990\n",
            "Length: 99, dtype: int64\n"
          ],
          "name": "stdout"
        }
      ]
    },
    {
      "cell_type": "markdown",
      "metadata": {
        "id": "M5gCf8mJOmLZ",
        "colab_type": "text"
      },
      "source": [
        "## Write a Pandas program to convert a given Series to an array.\n",
        "Sample series is ['100', '200', ‘300’,’400’,’500’,'python', '300.12', '400',’is’,’great’,’language’]\n"
      ]
    },
    {
      "cell_type": "code",
      "metadata": {
        "id": "RYMzr35xOSeZ",
        "colab_type": "code",
        "colab": {
          "base_uri": "https://localhost:8080/",
          "height": 295
        },
        "outputId": "ff7a58c8-3fce-48f5-f32f-67c03879e3c6"
      },
      "source": [
        "import pandas as pd\n",
        "import numpy as np\n",
        "s1 = pd.Series(['100','200','300','400','500','python','300.2','400','is','great','language'])\n",
        "print(\"Original Data Series:\")\n",
        "print(s1)\n",
        "print(\"Series to an array\")\n",
        "a = np.array(s1.values.tolist())\n",
        "print (a)"
      ],
      "execution_count": null,
      "outputs": [
        {
          "output_type": "stream",
          "text": [
            "Original Data Series:\n",
            "0          100\n",
            "1          200\n",
            "2          300\n",
            "3          400\n",
            "4          500\n",
            "5       python\n",
            "6        300.2\n",
            "7          400\n",
            "8           is\n",
            "9        great\n",
            "10    language\n",
            "dtype: object\n",
            "Series to an array\n",
            "['100' '200' '300' '400' '500' 'python' '300.2' '400' 'is' 'great'\n",
            " 'language']\n"
          ],
          "name": "stdout"
        }
      ]
    },
    {
      "cell_type": "markdown",
      "metadata": {
        "id": "ciNL2GBkiNQK",
        "colab_type": "text"
      },
      "source": [
        "## Write a Pandas program to sort a given Series.\n",
        "Sample series is ['100', '200', ‘300’,’400’,’500’,'python', '300.12', '400',’is’,’great’,’language’]\n",
        "\n",
        "\n"
      ]
    },
    {
      "cell_type": "code",
      "metadata": {
        "id": "V2_e-TafiTWC",
        "colab_type": "code",
        "colab": {
          "base_uri": "https://localhost:8080/",
          "height": 433
        },
        "outputId": "fb58d013-c94f-48af-9358-14f9aa2a0f72"
      },
      "source": [
        "import pandas as pd\n",
        "import numpy as np\n",
        "s1 = pd.Series(['100','200','300','400','500','python','300.2','400','is','great','language'])\n",
        "print(s1)\n",
        "s2=s1.sort_values()\n",
        "print(s2)\n",
        "\n"
      ],
      "execution_count": null,
      "outputs": [
        {
          "output_type": "stream",
          "text": [
            "0          100\n",
            "1          200\n",
            "2          300\n",
            "3          400\n",
            "4          500\n",
            "5       python\n",
            "6        300.2\n",
            "7          400\n",
            "8           is\n",
            "9        great\n",
            "10    language\n",
            "dtype: object\n",
            "0          100\n",
            "1          200\n",
            "2          300\n",
            "6        300.2\n",
            "3          400\n",
            "7          400\n",
            "4          500\n",
            "9        great\n",
            "8           is\n",
            "10    language\n",
            "5       python\n",
            "dtype: object\n"
          ],
          "name": "stdout"
        }
      ]
    },
    {
      "cell_type": "markdown",
      "metadata": {
        "id": "o485U0AIiTyD",
        "colab_type": "text"
      },
      "source": [
        "## Write a Pandas program to create a subsets of a given series based on value and condition.\n",
        "Sample NumPy array: d1 = [10, 20, 30, 40, 50... 1000]\n",
        " value and condtion :  Subset 1 :numbers divisable by 7  Subset 2 : numbers divisable by 5\n",
        "\n"
      ]
    },
    {
      "cell_type": "code",
      "metadata": {
        "id": "KAtmHASUiXWf",
        "colab_type": "code",
        "colab": {
          "base_uri": "https://localhost:8080/",
          "height": 277
        },
        "outputId": "d89f0c44-f068-4918-89a1-2fb10076dec9"
      },
      "source": [
        "import pandas as pd\n",
        "import numpy as np\n",
        "d1=np.array([i for i in range(1,1000) if i%10==0])\n",
        "print(d1)\n",
        "print(\"subset 1\")\n",
        "subset1=d1[d1%7==0]\n",
        "print(subset1)\n",
        "print(\"subset2\")\n",
        "subset2=d1[d1%5==0]\n",
        "print(subset2)\n"
      ],
      "execution_count": null,
      "outputs": [
        {
          "output_type": "stream",
          "text": [
            "[ 10  20  30  40  50  60  70  80  90 100 110 120 130 140 150 160 170 180\n",
            " 190 200 210 220 230 240 250 260 270 280 290 300 310 320 330 340 350 360\n",
            " 370 380 390 400 410 420 430 440 450 460 470 480 490 500 510 520 530 540\n",
            " 550 560 570 580 590 600 610 620 630 640 650 660 670 680 690 700 710 720\n",
            " 730 740 750 760 770 780 790 800 810 820 830 840 850 860 870 880 890 900\n",
            " 910 920 930 940 950 960 970 980 990]\n",
            "subset 1\n",
            "[ 70 140 210 280 350 420 490 560 630 700 770 840 910 980]\n",
            "subset2\n",
            "[ 10  20  30  40  50  60  70  80  90 100 110 120 130 140 150 160 170 180\n",
            " 190 200 210 220 230 240 250 260 270 280 290 300 310 320 330 340 350 360\n",
            " 370 380 390 400 410 420 430 440 450 460 470 480 490 500 510 520 530 540\n",
            " 550 560 570 580 590 600 610 620 630 640 650 660 670 680 690 700 710 720\n",
            " 730 740 750 760 770 780 790 800 810 820 830 840 850 860 870 880 890 900\n",
            " 910 920 930 940 950 960 970 980 990]\n"
          ],
          "name": "stdout"
        }
      ]
    },
    {
      "cell_type": "markdown",
      "metadata": {
        "id": "8ZQsqSmBiXrH",
        "colab_type": "text"
      },
      "source": [
        "## Write a Pandas program to create the mean and standard deviation, maximum and minimum of the data of a given Series of the prime numbers upto 1000\n"
      ]
    },
    {
      "cell_type": "code",
      "metadata": {
        "id": "dK33dAAbiYXw",
        "colab_type": "code",
        "colab": {
          "base_uri": "https://localhost:8080/",
          "height": 312
        },
        "outputId": "70145cb0-c739-4c94-e3cd-a071c937fe27"
      },
      "source": [
        "import pandas as pd\n",
        "l=[]\n",
        "for val in range(0,1001):\n",
        "  if val > 1: \n",
        "        for n in range(2, val//2 + 2): \n",
        "            if (val % n) == 0: \n",
        "                break\n",
        "            else: \n",
        "                if n == val//2 + 1: \n",
        "                    l.append(val)\n",
        "s = pd.Series(data = l)\n",
        "print(\"Original Data Series:\")\n",
        "print(s)\n",
        "print(\"Mean of the said Data Series:\")\n",
        "print(s.mean())\n",
        "print(\"Standard deviation of the said Data Series:\")\n",
        "print(s.std())"
      ],
      "execution_count": null,
      "outputs": [
        {
          "output_type": "stream",
          "text": [
            "Original Data Series:\n",
            "0        3\n",
            "1        5\n",
            "2        7\n",
            "3       11\n",
            "4       13\n",
            "      ... \n",
            "162    971\n",
            "163    977\n",
            "164    983\n",
            "165    991\n",
            "166    997\n",
            "Length: 167, dtype: int64\n",
            "Mean of the said Data Series:\n",
            "455.8383233532934\n",
            "Standard deviation of the said Data Series:\n",
            "297.0201672063572\n"
          ],
          "name": "stdout"
        }
      ]
    },
    {
      "cell_type": "markdown",
      "metadata": {
        "id": "89df7CYkZsJS",
        "colab_type": "text"
      },
      "source": [
        "## Write a Pandas program to get the elements of an array values into column-wise.\n",
        "Sample data: {‘X’:[All odd numbers but not divisable by 7 upto 1000], 'Y':[ All even numbers but not divisable by 5 upto 1000 ],'Z':[ All odd numbers but not divisable by 3 upto 1000]}\n"
      ]
    },
    {
      "cell_type": "code",
      "metadata": {
        "id": "85fnmqdwO25i",
        "colab_type": "code",
        "colab": {
          "base_uri": "https://localhost:8080/",
          "height": 277
        },
        "outputId": "2d11def2-33b3-473a-a9a0-758b933a9b09"
      },
      "source": [
        "import pandas as pd\n",
        "l1=([i for i in range(0,1001) if i%7!=0 and i%2!=0])\n",
        "p1=pd.Series(l1)\n",
        "l2=([i for i in range(0,1001) if i%2==0 and i%5!=0])\n",
        "p2=pd.Series(l2)\n",
        "l3=([i for i in range(0,1001) if i%2!=0 and i%3!=0])\n",
        "p3=pd.Series(l3)\n",
        "print(len(l1),len(l2),len(l3))\n",
        "for i in range(len(l3)):\n",
        "  df = pd.DataFrame({'X':p1, 'Y':p2,'Z':p3})\n",
        "print(df)\n"
      ],
      "execution_count": null,
      "outputs": [
        {
          "output_type": "stream",
          "text": [
            "429 400 333\n",
            "       X     Y     Z\n",
            "0      1   2.0   1.0\n",
            "1      3   4.0   5.0\n",
            "2      5   6.0   7.0\n",
            "3      9   8.0  11.0\n",
            "4     11  12.0  13.0\n",
            "..   ...   ...   ...\n",
            "424  991   NaN   NaN\n",
            "425  993   NaN   NaN\n",
            "426  995   NaN   NaN\n",
            "427  997   NaN   NaN\n",
            "428  999   NaN   NaN\n",
            "\n",
            "[429 rows x 3 columns]\n"
          ],
          "name": "stdout"
        }
      ]
    },
    {
      "cell_type": "markdown",
      "metadata": {
        "id": "3t3hVLttzk43",
        "colab_type": "text"
      },
      "source": [
        "## 1Write a Pandas program to display the first 10 rows of the DataFrame for any particular three fields."
      ]
    },
    {
      "cell_type": "code",
      "metadata": {
        "id": "bH78gKC2amCq",
        "colab_type": "code",
        "colab": {
          "base_uri": "https://localhost:8080/",
          "height": 260
        },
        "outputId": "ee77afcd-61b4-4846-ccb8-ba94c3a979b0"
      },
      "source": [
        "import pandas as pd\n",
        "df = pd.read_csv('movie_metadata.csv')\n",
        "result = df.head(10)\n",
        "print(\"First 10 rows of the DataFrame:\")\n",
        "print(result)"
      ],
      "execution_count": null,
      "outputs": [
        {
          "output_type": "stream",
          "text": [
            "First 10 rows of the DataFrame:\n",
            "   color      director_name  ...  movie_facebook_likes  Unnamed: 28\n",
            "0  Color      James Cameron  ...                 33000          NaN\n",
            "1  Color     Gore Verbinski  ...                     0          NaN\n",
            "2  Color         Sam Mendes  ...                 85000          NaN\n",
            "3  Color  Christopher Nolan  ...                164000          NaN\n",
            "4    NaN        Doug Walker  ...                     0          NaN\n",
            "5  Color     Andrew Stanton  ...                 24000          NaN\n",
            "6  Color          Sam Raimi  ...                     0          NaN\n",
            "7  Color       Nathan Greno  ...                 29000          NaN\n",
            "8  Color        Joss Whedon  ...                118000          NaN\n",
            "9  Color        David Yates  ...                 10000          NaN\n",
            "\n",
            "[10 rows x 29 columns]\n"
          ],
          "name": "stdout"
        }
      ]
    },
    {
      "cell_type": "markdown",
      "metadata": {
        "id": "CB6k2gIT81i5",
        "colab_type": "text"
      },
      "source": [
        "## Write a Pandas program to get the details of the seventh movie of the DataFrame for any particular three fields #(movie_metadata.csv file)."
      ]
    },
    {
      "cell_type": "code",
      "metadata": {
        "id": "QeVYmXLJ85B3",
        "colab_type": "code",
        "colab": {
          "base_uri": "https://localhost:8080/",
          "height": 485
        },
        "outputId": "dd8b5bbd-3bd5-42c2-a957-6d0c166ad6c3"
      },
      "source": [
        "import pandas as pd\n",
        "df = pd.read_csv('movies_metadata.csv', error_bad_lines=False)\n",
        "seventh_movie = df.iloc[3]\n",
        "print(\"Details of the seventh movie:\")\n",
        "print(seventh_movie)"
      ],
      "execution_count": null,
      "outputs": [
        {
          "output_type": "stream",
          "text": [
            "Details of the seventh movie:\n",
            "adult                                                                False\n",
            "belongs_to_collection                                                  NaN\n",
            "budget                                                            16000000\n",
            "genres                   [{'id': 35, 'name': 'Comedy'}, {'id': 18, 'nam...\n",
            "homepage                                                               NaN\n",
            "id                                                                   31357\n",
            "imdb_id                                                          tt0114885\n",
            "original_language                                                       en\n",
            "original_title                                           Waiting to Exhale\n",
            "overview                 Cheated on, mistreated and stepped on, the wom...\n",
            "popularity                                                         3.85949\n",
            "poster_path                               /16XOMpEaLWkrcPqSQqhTmeJuqQl.jpg\n",
            "production_companies     [{'name': 'Twentieth Century Fox Film Corporat...\n",
            "production_countries     [{'iso_3166_1': 'US', 'name': 'United States o...\n",
            "release_date                                                    1995-12-22\n",
            "revenue                                                           81452156\n",
            "runtime                                                                127\n",
            "spoken_languages                  [{'iso_639_1': 'en', 'name': 'English'}]\n",
            "status                                                            Released\n",
            "tagline                  Friends are the people who let you be yourself...\n",
            "title                                                    Waiting to Exhale\n",
            "video                                                                False\n",
            "vote_average                                                           6.1\n",
            "vote_count                                                              34\n",
            "Name: 3, dtype: object\n"
          ],
          "name": "stdout"
        },
        {
          "output_type": "stream",
          "text": [
            "b'Skipping line 31: expected 24 fields, saw 25\\n'\n"
          ],
          "name": "stderr"
        }
      ]
    },
    {
      "cell_type": "markdown",
      "metadata": {
        "id": "opwWSfTK85V5",
        "colab_type": "text"
      },
      "source": [
        "## Write a Pandas program to sort the DataFrame based on title_year from dataset of movie_metadata.csv for any particular three fields "
      ]
    },
    {
      "cell_type": "code",
      "metadata": {
        "id": "NhawFL_t88aW",
        "colab_type": "code",
        "colab": {
          "base_uri": "https://localhost:8080/",
          "height": 919
        },
        "outputId": "6199f7d8-78a6-4b73-af06-71e29c51330d"
      },
      "source": [
        "import pandas as pd\n",
        "df = pd.read_csv('movies_metadata.csv', error_bad_lines=False)\n",
        "result = df[['title', 'genres']]\n",
        "print(\"Details of title and genres:\")\n",
        "print(result)"
      ],
      "execution_count": null,
      "outputs": [
        {
          "output_type": "stream",
          "text": [
            "Details of title and genres:\n",
            "                             title                                             genres\n",
            "0                        Toy Story  [{'id': 16, 'name': 'Animation'}, {'id': 35, '...\n",
            "1                          Jumanji  [{'id': 12, 'name': 'Adventure'}, {'id': 14, '...\n",
            "2                 Grumpier Old Men  [{'id': 10749, 'name': 'Romance'}, {'id': 35, ...\n",
            "3                Waiting to Exhale  [{'id': 35, 'name': 'Comedy'}, {'id': 18, 'nam...\n",
            "4      Father of the Bride Part II                     [{'id': 35, 'name': 'Comedy'}]\n",
            "5                             Heat  [{'id': 28, 'name': 'Action'}, {'id': 80, 'nam...\n",
            "6                          Sabrina  [{'id': 35, 'name': 'Comedy'}, {'id': 10749, '...\n",
            "7                     Tom and Huck  [{'id': 28, 'name': 'Action'}, {'id': 12, 'nam...\n",
            "8                     Sudden Death  [{'id': 28, 'name': 'Action'}, {'id': 12, 'nam...\n",
            "9                        GoldenEye  [{'id': 12, 'name': 'Adventure'}, {'id': 28, '...\n",
            "10          The American President  [{'id': 35, 'name': 'Comedy'}, {'id': 18, 'nam...\n",
            "11     Dracula: Dead and Loving It  [{'id': 35, 'name': 'Comedy'}, {'id': 27, 'nam...\n",
            "12                           Balto  [{'id': 10751, 'name': 'Family'}, {'id': 16, '...\n",
            "13                           Nixon  [{'id': 36, 'name': 'History'}, {'id': 18, 'na...\n",
            "14                Cutthroat Island  [{'id': 28, 'name': 'Action'}, {'id': 12, 'nam...\n",
            "15                          Casino  [{'id': 18, 'name': 'Drama'}, {'id': 80, 'name...\n",
            "16           Sense and Sensibility  [{'id': 18, 'name': 'Drama'}, {'id': 10749, 'n...\n",
            "17                      Four Rooms  [{'id': 80, 'name': 'Crime'}, {'id': 35, 'name...\n",
            "18  Ace Ventura: When Nature Calls  [{'id': 80, 'name': 'Crime'}, {'id': 35, 'name...\n",
            "19                     Money Train  [{'id': 28, 'name': 'Action'}, {'id': 35, 'nam...\n",
            "20                      Get Shorty  [{'id': 35, 'name': 'Comedy'}, {'id': 53, 'nam...\n",
            "21                         Copycat  [{'id': 18, 'name': 'Drama'}, {'id': 53, 'name...\n",
            "22                       Assassins  [{'id': 28, 'name': 'Action'}, {'id': 12, 'nam...\n",
            "23                          Powder  [{'id': 18, 'name': 'Drama'}, {'id': 14, 'name...\n",
            "24               Leaving Las Vegas  [{'id': 18, 'name': 'Drama'}, {'id': 10749, 'n...\n",
            "25                         Othello                      [{'id': 18, 'name': 'Drama'}]\n",
            "26                    Now and Then  [{'id': 35, 'name': 'Comedy'}, {'id': 18, 'nam...\n",
            "27                      Persuasion  [{'id': 18, 'name': 'Drama'}, {'id': 10749, 'n...\n",
            "28       The City of Lost Children  [{'id': 14, 'name': 'Fantasy'}, {'id': 878, 'n...\n",
            "29                 Dangerous Minds  [{'id': 18, 'name': 'Drama'}, {'id': 80, 'name...\n",
            "30                  Twelve Monkeys  [{'id': 878, 'name': 'Science Fiction'}, {'id'...\n",
            "31                Wings of Courage  [{'id': 10749, 'name': 'Romance'}, {'id': 12, ...\n",
            "32                            Babe  [{'id': 14, 'name': 'Fantasy'}, {'id': 18, 'na...\n",
            "33                      Carrington  [{'id': 36, 'name': 'History'}, {'id': 18, 'na...\n",
            "34                Dead Man Walking                      [{'id': 18, 'name': 'Drama'}]\n",
            "35          Across the Sea of Time  [{'id': 12, 'name': 'Adventure'}, {'id': 36, '...\n",
            "36                    It Takes Two  [{'id': 35, 'name': 'Comedy'}, {'id': 10751, '...\n",
            "37                        Clueless  [{'id': 35, 'name': 'Comedy'}, {'id': 18, 'nam...\n",
            "38        Cry, the Beloved Country                      [{'id': 18, 'name': 'Drama'}]\n",
            "39                     Richard III  [{'id': 18, 'name': 'Drama'}, {'id': 10752, 'n...\n",
            "40                 Dead Presidents  [{'id': 28, 'name': 'Action'}, {'id': 80, 'nam...\n",
            "41                     Restoration  [{'id': 18, 'name': 'Drama'}, {'id': 10749, 'n...\n",
            "42                   Mortal Kombat  [{'id': 28, 'name': 'Action'}, {'id': 14, 'nam...\n",
            "43                      To Die For  [{'id': 14, 'name': 'Fantasy'}, {'id': 18, 'na...\n",
            "44   How To Make An American Quilt  [{'id': 18, 'name': 'Drama'}, {'id': 10749, 'n...\n",
            "45                           Se7en  [{'id': 80, 'name': 'Crime'}, {'id': 9648, 'na...\n",
            "46                      Pocahontas  [{'id': 12, 'name': 'Adventure'}, {'id': 16, '...\n",
            "47           When Night Is Falling  [{'id': 18, 'name': 'Drama'}, {'id': 10749, 'n...\n",
            "48              The Usual Suspects  [{'id': 18, 'name': 'Drama'}, {'id': 80, 'name...\n"
          ],
          "name": "stdout"
        },
        {
          "output_type": "stream",
          "text": [
            "b'Skipping line 31: expected 24 fields, saw 25\\n'\n"
          ],
          "name": "stderr"
        }
      ]
    },
    {
      "cell_type": "markdown",
      "metadata": {
        "id": "fKbIPxZv4MSD",
        "colab_type": "text"
      },
      "source": [
        "## Write a Pandas program to sort the DataFrame based on country  and language from dataset of  movie_metadata.csv"
      ]
    },
    {
      "cell_type": "code",
      "metadata": {
        "id": "7_6Jo7zQ4Nob",
        "colab_type": "code",
        "colab": {
          "base_uri": "https://localhost:8080/",
          "height": 537
        },
        "outputId": "e6e7e1f3-8279-48b1-fbe5-e271141d5e8e"
      },
      "source": [
        "import pandas as pd\n",
        "import numpy as np\n",
        "df = pd.read_csv('movie_metadata.csv')\n",
        "print(\"sorted by country\")\n",
        "result = df.sort_values('country')\n",
        "print(result)\n",
        "print(\"sorted by lang\")\n",
        "result = df.sort_values('language')\n",
        "print(result)"
      ],
      "execution_count": null,
      "outputs": [
        {
          "output_type": "stream",
          "text": [
            "sorted by country\n",
            "      color         director_name  ...  movie_facebook_likes  Unnamed: 28\n",
            "4735  Color         Siddiq Barmak  ...                     0          NaN\n",
            "4450  Color       Lucrecia Martel  ...                    57          NaN\n",
            "4666  Color         Jorge Gaggero  ...                    83          NaN\n",
            "4415  Color      Fabián Bielinsky  ...                     0          NaN\n",
            "4000  Color  Juan José Campanella  ...                 33000          NaN\n",
            "...     ...                   ...  ...                   ...          ...\n",
            "4       NaN           Doug Walker  ...                     0          NaN\n",
            "279     NaN   Christopher Barnard  ...                     0          NaN\n",
            "2370  Color                   NaN  ...                     0          NaN\n",
            "3397  Color                   NaN  ...                 18000          NaN\n",
            "4021  Color     Daniel Petrie Jr.  ...                   570          NaN\n",
            "\n",
            "[5043 rows x 29 columns]\n",
            "sorted by lang\n",
            "                 color       director_name  ...  movie_facebook_likes  Unnamed: 28\n",
            "5031             Color  Thomas L. Phillips  ...                    16        424.0\n",
            "3504             Color       Phillip Noyce  ...                     0          NaN\n",
            "377              Color      Sydney Pollack  ...                     0          NaN\n",
            "4393             Color       Nadine Labaki  ...                     0          NaN\n",
            "4580             Color       Scandar Copti  ...                     0          NaN\n",
            "...                ...                 ...  ...                   ...          ...\n",
            "4409               NaN      John Stockwell  ...                     0          NaN\n",
            "4630               NaN     Jonathan Meyers  ...                   212          NaN\n",
            "4810   Black and White       D.W. Griffith  ...                   691          NaN\n",
            "4885   Black and White          King Vidor  ...                   226          NaN\n",
            "4958   Black and White   Harry F. Millarde  ...                     0          NaN\n",
            "\n",
            "[5043 rows x 29 columns]\n"
          ],
          "name": "stdout"
        }
      ]
    },
    {
      "cell_type": "markdown",
      "metadata": {
        "id": "d4cNhAdz2erC",
        "colab_type": "text"
      },
      "source": [
        "## Write a Pandas program to find the mean and standard deviation, maximum and minimum of the data of  50 students Python marks stored in a CSV file called Python_mark.csv( you have to create the file yourself like rollno,mark for 50 records)"
      ]
    },
    {
      "cell_type": "code",
      "metadata": {
        "id": "12vILUBM2fth",
        "colab_type": "code",
        "colab": {
          "base_uri": "https://localhost:8080/",
          "height": 1000
        },
        "outputId": "36fd48e6-cdac-4e7d-a7d7-c773bda4b53d"
      },
      "source": [
        "import pandas as pd\n",
        "df = pd.DataFrame({'roll number':[1,2,3,4,5,6,7,8,9,10,11,12,13,14,15,16,17,18,19,20,21,22,23,24,25,26,27,28,29,30,31,32,33,34,35,36,37,38,39,40,41,42,43,44,45,46,47,48,49,50],'marks':[20,22,23,24,25,26,27,12,13,15,23,24,23,21,12,13,14,15,30,24,25,26,27,28,29,30,22,22,22,22,23,23,23,23,23,23,24,24,24,25,26,26,27,27,27,27,27,26,27,23]})\n",
        "print(df.mean())\n",
        "print(df.std())\n",
        "print(df.min())\n",
        "print(df.max())\n",
        "df.to_csv('python_marks',index=False)\n",
        "df1 = pd.read_csv('python_marks')\n",
        "print(df1)\n",
        "print(df1.mean())\n",
        "print(df1.std())\n",
        "print(df1.min())\n",
        "print(df1.max())\n",
        "\n"
      ],
      "execution_count": null,
      "outputs": [
        {
          "output_type": "stream",
          "text": [
            "roll number    25.50\n",
            "marks          23.14\n",
            "dtype: float64\n",
            "roll number    14.577380\n",
            "marks           4.558061\n",
            "dtype: float64\n",
            "roll number     1\n",
            "marks          12\n",
            "dtype: int64\n",
            "roll number    50\n",
            "marks          30\n",
            "dtype: int64\n",
            "    roll number  marks\n",
            "0             1     20\n",
            "1             2     22\n",
            "2             3     23\n",
            "3             4     24\n",
            "4             5     25\n",
            "5             6     26\n",
            "6             7     27\n",
            "7             8     12\n",
            "8             9     13\n",
            "9            10     15\n",
            "10           11     23\n",
            "11           12     24\n",
            "12           13     23\n",
            "13           14     21\n",
            "14           15     12\n",
            "15           16     13\n",
            "16           17     14\n",
            "17           18     15\n",
            "18           19     30\n",
            "19           20     24\n",
            "20           21     25\n",
            "21           22     26\n",
            "22           23     27\n",
            "23           24     28\n",
            "24           25     29\n",
            "25           26     30\n",
            "26           27     22\n",
            "27           28     22\n",
            "28           29     22\n",
            "29           30     22\n",
            "30           31     23\n",
            "31           32     23\n",
            "32           33     23\n",
            "33           34     23\n",
            "34           35     23\n",
            "35           36     23\n",
            "36           37     24\n",
            "37           38     24\n",
            "38           39     24\n",
            "39           40     25\n",
            "40           41     26\n",
            "41           42     26\n",
            "42           43     27\n",
            "43           44     27\n",
            "44           45     27\n",
            "45           46     27\n",
            "46           47     27\n",
            "47           48     26\n",
            "48           49     27\n",
            "49           50     23\n",
            "roll number    25.50\n",
            "marks          23.14\n",
            "dtype: float64\n",
            "roll number    14.577380\n",
            "marks           4.558061\n",
            "dtype: float64\n",
            "roll number     1\n",
            "marks          12\n",
            "dtype: int64\n",
            "roll number    50\n",
            "marks          30\n",
            "dtype: int64\n"
          ],
          "name": "stdout"
        }
      ]
    },
    {
      "cell_type": "markdown",
      "metadata": {
        "id": "TU3IK_An7DEG",
        "colab_type": "text"
      },
      "source": [
        "## Write a NumPy program to create a random 4x4 array and extract the 2nd and 3rd rows of the  array and store them into a variable.\n",
        "\n"
      ]
    },
    {
      "cell_type": "code",
      "metadata": {
        "id": "GJjSdgCA7JvJ",
        "colab_type": "code",
        "colab": {
          "base_uri": "https://localhost:8080/",
          "height": 139
        },
        "outputId": "10973b4d-db0b-4f92-b206-3d2a87c4260e"
      },
      "source": [
        "import numpy as np\n",
        "x = np.random.random((4,4))\n",
        "print(x)\n",
        "print(\"2nd and 3rd rows of the above array:\")\n",
        "y= x[1:3, :]\n",
        "print(y)"
      ],
      "execution_count": null,
      "outputs": [
        {
          "output_type": "stream",
          "text": [
            "[[0.74571917 0.06259164 0.27686382 0.52433805]\n",
            " [0.88980124 0.90429708 0.79636399 0.17708914]\n",
            " [0.46696331 0.78735115 0.90169545 0.0272914 ]\n",
            " [0.61447144 0.60038512 0.56377653 0.25360433]]\n",
            "2nd and 3rd rows of the above array:\n",
            "[[0.88980124 0.90429708 0.79636399 0.17708914]\n",
            " [0.46696331 0.78735115 0.90169545 0.0272914 ]]\n"
          ],
          "name": "stdout"
        }
      ]
    },
    {
      "cell_type": "markdown",
      "metadata": {
        "id": "bfAs5a-X7T_9",
        "colab_type": "text"
      },
      "source": [
        "## Write a NumPy program to create a 10x10 array with random values and find the minimum and maximum values."
      ]
    },
    {
      "cell_type": "code",
      "metadata": {
        "id": "e6QyQjZD7X7O",
        "colab_type": "code",
        "colab": {
          "base_uri": "https://localhost:8080/",
          "height": 416
        },
        "outputId": "5354cb65-d8ba-4dbd-bece-aeb6bd6be0f4"
      },
      "source": [
        "import numpy as np\n",
        "x = np.random.random((10,10))\n",
        "print(\"Original Array:\")\n",
        "print(x) \n",
        "xmin, xmax = x.min(), x.max()\n",
        "print(\"Minimum and Maximum Values:\")\n",
        "print(xmin, xmax)"
      ],
      "execution_count": null,
      "outputs": [
        {
          "output_type": "stream",
          "text": [
            "Original Array:\n",
            "[[0.2885336  0.28142213 0.30232641 0.09247329 0.72275709 0.11096418\n",
            "  0.57991197 0.20786812 0.23307533 0.11270662]\n",
            " [0.17805611 0.20537862 0.11041223 0.8512743  0.90408704 0.56639206\n",
            "  0.14288003 0.43743393 0.77865157 0.49867878]\n",
            " [0.44635416 0.86959996 0.58296655 0.10506499 0.96081012 0.68152305\n",
            "  0.91409989 0.28269123 0.23629992 0.90988496]\n",
            " [0.13128918 0.95261883 0.70800072 0.92259356 0.59464465 0.12942125\n",
            "  0.28719842 0.47614749 0.46801091 0.40413248]\n",
            " [0.53426834 0.66077446 0.87941659 0.60704978 0.09911446 0.32167735\n",
            "  0.80443741 0.0271903  0.94377176 0.425043  ]\n",
            " [0.97332527 0.02474171 0.5806722  0.41068241 0.9487058  0.66911076\n",
            "  0.03301615 0.25770509 0.12255748 0.10645028]\n",
            " [0.02214017 0.20046775 0.28462496 0.60175733 0.45845576 0.77016016\n",
            "  0.43870556 0.63997577 0.23777383 0.81903852]\n",
            " [0.79150718 0.25829058 0.44938701 0.00439794 0.99593106 0.0732506\n",
            "  0.56686841 0.23569056 0.01387316 0.73009843]\n",
            " [0.34199392 0.78037339 0.66298049 0.99141913 0.62237335 0.31797764\n",
            "  0.11521635 0.35002839 0.83795685 0.13367874]\n",
            " [0.12324992 0.77451146 0.19720398 0.22795053 0.59679341 0.04960976\n",
            "  0.83020916 0.51540066 0.53614395 0.73702242]]\n",
            "Minimum and Maximum Values:\n",
            "0.004397944670456955 0.995931059083053\n"
          ],
          "name": "stdout"
        }
      ]
    },
    {
      "cell_type": "markdown",
      "metadata": {
        "id": "5ej3in8u6k1z",
        "colab_type": "text"
      },
      "source": [
        "## .Write a NumPy program to generate 8 random integers between 100 and 300"
      ]
    },
    {
      "cell_type": "code",
      "metadata": {
        "id": "hFp2rgq96lnH",
        "colab_type": "code",
        "colab": {
          "base_uri": "https://localhost:8080/",
          "height": 35
        },
        "outputId": "7754e1e9-d2c0-44c0-992b-f53f5685f4f6"
      },
      "source": [
        "import numpy as np\n",
        "x = np.random.randint(low=100, high=300, size=8)\n",
        "print(x)"
      ],
      "execution_count": null,
      "outputs": [
        {
          "output_type": "stream",
          "text": [
            "[150 154 166 155 280 289 291 141]\n"
          ],
          "name": "stdout"
        }
      ]
    },
    {
      "cell_type": "markdown",
      "metadata": {
        "id": "TMJNXcNm6rh2",
        "colab_type": "text"
      },
      "source": [
        "## Write a NumPy program to create a random integer nos of size 20 and sort it."
      ]
    },
    {
      "cell_type": "code",
      "metadata": {
        "id": "9DxB8kUr6oXr",
        "colab_type": "code",
        "colab": {
          "base_uri": "https://localhost:8080/",
          "height": 52
        },
        "outputId": "80dd6b7c-6327-4aef-e2db-b369a787d54f"
      },
      "source": [
        "import numpy as np\n",
        "x=np.arange(20)\n",
        "np.random.shuffle(x)\n",
        "print(x)\n",
        "x.sort()\n",
        "print(x)"
      ],
      "execution_count": null,
      "outputs": [
        {
          "output_type": "stream",
          "text": [
            "[ 9 18  2 13 11 17  8 12 14 15 16  1  7 10  0  5  6  3 19  4]\n",
            "[ 0  1  2  3  4  5  6  7  8  9 10 11 12 13 14 15 16 17 18 19]\n"
          ],
          "name": "stdout"
        }
      ]
    },
    {
      "cell_type": "code",
      "metadata": {
        "id": "IHPo64_66yGA",
        "colab_type": "code",
        "colab": {}
      },
      "source": [
        ""
      ],
      "execution_count": null,
      "outputs": []
    }
  ]
}