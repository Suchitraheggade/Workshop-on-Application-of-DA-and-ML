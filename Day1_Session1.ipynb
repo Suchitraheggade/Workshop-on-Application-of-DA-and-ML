{
  "nbformat": 4,
  "nbformat_minor": 0,
  "metadata": {
    "colab": {
      "name": "Day1 Session1.ipynb",
      "provenance": [],
      "authorship_tag": "ABX9TyPm8daIy69iNnB36DBGq/Vb",
      "include_colab_link": true
    },
    "kernelspec": {
      "name": "python3",
      "display_name": "Python 3"
    }
  },
  "cells": [
    {
      "cell_type": "markdown",
      "metadata": {
        "id": "view-in-github",
        "colab_type": "text"
      },
      "source": [
        "<a href=\"https://colab.research.google.com/github/Suchitraheggade/Workshop-on-Application-of-Python-Program/blob/master/Day1_Session1.ipynb\" target=\"_parent\"><img src=\"https://colab.research.google.com/assets/colab-badge.svg\" alt=\"Open In Colab\"/></a>"
      ]
    },
    {
      "cell_type": "markdown",
      "metadata": {
        "id": "Zn1gMqYAeloT",
        "colab_type": "text"
      },
      "source": [
        "   3.Find the greater of Two numbers."
      ]
    },
    {
      "cell_type": "markdown",
      "metadata": {
        "id": "PpeV-8uBd4Wo",
        "colab_type": "text"
      },
      "source": [
        "2.Convert centegrade to farenheit ( f= 9/5*c+32)\n"
      ]
    },
    {
      "cell_type": "markdown",
      "metadata": {
        "id": "jecxMBdafYmn",
        "colab_type": "text"
      },
      "source": [
        "4.Write a program for nding surface areas of cylinder and cone "
      ]
    },
    {
      "cell_type": "markdown",
      "metadata": {
        "id": "E99RbJzZnmKD",
        "colab_type": "text"
      },
      "source": [
        "6.\tWrite a  menu program to perform the operations ( ODDorEven, Factorial, ODDNoUptoN, PrimeUptoN ) using functions for two nos with  menu choice\n",
        "\n",
        "\n"
      ]
    },
    {
      "cell_type": "code",
      "metadata": {
        "id": "3PAVOzBNg4DT",
        "colab_type": "code",
        "colab": {
          "base_uri": "https://localhost:8080/",
          "height": 1000
        },
        "outputId": "0890edcc-3f51-4507-a953-df652cec2b6f"
      },
      "source": [
        "\n",
        " \n",
        "loop = 1\n",
        "choice = 0\n",
        "def OddorEven(n):\n",
        "  if(n%2==0):\n",
        "    return True\n",
        "def fact(f):\n",
        "  s=1\n",
        "  while(f>0):\n",
        "    s=s*f\n",
        "    f=f-1\n",
        "  print(f\"Factorial Of {f} Is: {s}\")\n",
        "def Odd(o):\n",
        "  for i in range(o+1):\n",
        "    if(i%2 != 0):\n",
        "      print(i, end=' ')\n",
        "def prime(p):\n",
        "  c=0\n",
        "  print(2, end=' ')\n",
        "  for i in range(3,p+1):\n",
        "    for j in range(2,i):\n",
        "      if(i % j == 0):\n",
        "        c=1\n",
        "        break\n",
        "    if(c==0):\n",
        "      print(i, end=' ')\n",
        "    c=0\n",
        "\n",
        "while loop == 1:\n",
        "    print(\" \")\n",
        "    print (\"your options are:\")\n",
        "    print (\" \")\n",
        "    print(\"1) Odd or Even\")\n",
        "    print(\"2) Factorial\")\n",
        "    print(\"3) Odd Number Upto N\")\n",
        "    print(\"4) Prime Number upto N\")\n",
        "    print(\"5) Quit\")\n",
        "    print(\" \")\n",
        "    try:\n",
        "        choice = int(input(\"Choose your option: \"))\n",
        "    except:\n",
        "        print('please enter a valid number for option')\n",
        "    print(\" \")\n",
        "    if choice == 1:\n",
        "      n = int(input(\"Enter The Number: \"))\n",
        "      if(OddorEven(n)):\n",
        "        print(\"The Number Is Even\")\n",
        "      else:\n",
        "        print(\"The Number Is Odd\")\n",
        "    elif choice == 2:\n",
        "      f = int(input(\"Enter The Number: \"))\n",
        "      fact(f)\n",
        "    elif choice == 3:\n",
        "      o = int(input(\"Enter The Number: \"))\n",
        "      Odd(o)\n",
        "    elif choice == 4:\n",
        "      p = int(input(\"Enter The Number: \"))\n",
        "      prime(p)\n",
        "    elif choice == 5:\n",
        "      loop = 0\n",
        "    else:\n",
        "      print(\"please choice a valid option from 1 to 5\")\n",
        "      choice=0\n"
      ],
      "execution_count": 16,
      "outputs": [
        {
          "output_type": "stream",
          "text": [
            " \n",
            "your options are:\n",
            " \n",
            "1) Odd or Even\n",
            "2) Factorial\n",
            "3) Odd Number Upto N\n",
            "4) Prime Number upto N\n",
            "5) Quit\n",
            " \n",
            "Choose your option: 1\n",
            " \n",
            "Enter The Number: 34\n",
            "The Number Is Even\n",
            " \n",
            "your options are:\n",
            " \n",
            "1) Odd or Even\n",
            "2) Factorial\n",
            "3) Odd Number Upto N\n",
            "4) Prime Number upto N\n",
            "5) Quit\n",
            " \n",
            "Choose your option: 2\n",
            " \n",
            "Enter The Number: 56\n",
            "Factorial Of 0 Is: 710998587804863451854045647463724949736497978881168458687447040000000000000\n",
            " \n",
            "your options are:\n",
            " \n",
            "1) Odd or Even\n",
            "2) Factorial\n",
            "3) Odd Number Upto N\n",
            "4) Prime Number upto N\n",
            "5) Quit\n",
            " \n",
            "Choose your option: 3\n",
            " \n",
            "Enter The Number: 6\n",
            "1 3 5  \n",
            "your options are:\n",
            " \n",
            "1) Odd or Even\n",
            "2) Factorial\n",
            "3) Odd Number Upto N\n",
            "4) Prime Number upto N\n",
            "5) Quit\n",
            " \n",
            "Choose your option: 67\n",
            " \n",
            "please choice a valid option from 1 to 5\n",
            " \n",
            "your options are:\n",
            " \n",
            "1) Odd or Even\n",
            "2) Factorial\n",
            "3) Odd Number Upto N\n",
            "4) Prime Number upto N\n",
            "5) Quit\n",
            " \n",
            "Choose your option: 4\n",
            " \n",
            "Enter The Number: 67\n",
            "2 3 5 7 11 13 17 19 23 29 31 37 41 43 47 53 59 61 67  \n",
            "your options are:\n",
            " \n",
            "1) Odd or Even\n",
            "2) Factorial\n",
            "3) Odd Number Upto N\n",
            "4) Prime Number upto N\n",
            "5) Quit\n",
            " \n",
            "Choose your option: 5\n",
            " \n"
          ],
          "name": "stdout"
        }
      ]
    },
    {
      "cell_type": "markdown",
      "metadata": {
        "id": "vjSBtvQdneKO",
        "colab_type": "text"
      },
      "source": [
        ""
      ]
    },
    {
      "cell_type": "markdown",
      "metadata": {
        "id": "uR3qMVTadK8o",
        "colab_type": "text"
      },
      "source": [
        "1.\tFind the compound interest for the given p,n,r  (formula : p(1+n*r/100)n )"
      ]
    },
    {
      "cell_type": "markdown",
      "metadata": {
        "id": "2uhMdJuygSp3",
        "colab_type": "text"
      },
      "source": [
        "5.\tFind the greatest of four nos ( using ‘and’ operator)   using function."
      ]
    },
    {
      "cell_type": "code",
      "metadata": {
        "id": "MSy9mmmWfhAj",
        "colab_type": "code",
        "colab": {
          "base_uri": "https://localhost:8080/",
          "height": 118
        },
        "outputId": "06c4b570-5476-42ed-a7c7-0dbb69669003"
      },
      "source": [
        "a=int(input(\"enter 1st num: \"))\n",
        "b=int(input(\"enter 2nd num: \"))\n",
        "c=int(input(\"enter 3rd num: \")) \n",
        "d=int(input(\"enter 4th num: \")) \n",
        "print(\"greater num is : \") \n",
        "if(a>b and a>c and a>d): \n",
        "  print(a) \n",
        "elif(b>c and b>d):\n",
        "    print(b) \n",
        "elif(c>d): \n",
        "    print(c)\n",
        "else: \n",
        "  print(d)\n"
      ],
      "execution_count": 6,
      "outputs": [
        {
          "output_type": "stream",
          "text": [
            "enter 1st num: 6\n",
            "enter 2nd num: 7\n",
            "enter 3rd num: 8\n",
            "enter 4th num: 9\n",
            "greater num is : \n",
            "9\n"
          ],
          "name": "stdout"
        }
      ]
    },
    {
      "cell_type": "code",
      "metadata": {
        "id": "4NDq8UGTexNH",
        "colab_type": "code",
        "colab": {
          "base_uri": "https://localhost:8080/",
          "height": 84
        },
        "outputId": "4917d33a-e234-4ede-bc9c-4269bb176dbc"
      },
      "source": [
        "import math \n",
        "def Cylinder(r,h):  \n",
        "  return 2*math.pi*r*r*h\n",
        "def cone(r,h): \n",
        "   return (1/3)*math.pi*r*r*h\n",
        "r=int(input(\"enter r value : \"))\n",
        "h=int(input(\"enter h value\")) \n",
        "print(\"surface area of cylinder is : %.2f\"%Cylinder(r,h))\n",
        "print(\"surface area of cone is : %.2f \"%cone(r,h))\n"
      ],
      "execution_count": 5,
      "outputs": [
        {
          "output_type": "stream",
          "text": [
            "enter r value : 5\n",
            "enter h value6\n",
            "surface area of cylinder is : 942.48\n",
            "surface area of cone is : 157.08 \n"
          ],
          "name": "stdout"
        }
      ]
    },
    {
      "cell_type": "code",
      "metadata": {
        "id": "WQPIttbIeA3i",
        "colab_type": "code",
        "colab": {
          "base_uri": "https://localhost:8080/",
          "height": 84
        },
        "outputId": "06664e5e-f624-4f35-f230-d6122a7292c9"
      },
      "source": [
        "a=int(input(\"enter a num : \"))\n",
        "b=int(input(\"enter a num : \")) \n",
        "print(\"greater num is : \") \n",
        "if(a>b): \n",
        "  print(a) \n",
        "else: \n",
        "   print(b)\n"
      ],
      "execution_count": 4,
      "outputs": [
        {
          "output_type": "stream",
          "text": [
            "enter a num : 18\n",
            "enter a num : 100\n",
            "greater num is : \n",
            "100\n"
          ],
          "name": "stdout"
        }
      ]
    },
    {
      "cell_type": "code",
      "metadata": {
        "id": "whLIiIx6dhRD",
        "colab_type": "code",
        "colab": {
          "base_uri": "https://localhost:8080/",
          "height": 50
        },
        "outputId": "67216e68-8ca1-4290-ab0e-af0e4b9338d2"
      },
      "source": [
        "celsius = float(input(\"Enter temperature in celsius: \")) \n",
        "fahrenheit = (celsius * 9/5) + 32\n",
        "print('%.2f Celsius is: %0.2f Fahrenheit' %(celsius, fahrenheit))\n"
      ],
      "execution_count": 3,
      "outputs": [
        {
          "output_type": "stream",
          "text": [
            "Enter temperature in celsius: 37\n",
            "37.00 Celsius is: 98.60 Fahrenheit\n"
          ],
          "name": "stdout"
        }
      ]
    },
    {
      "cell_type": "code",
      "metadata": {
        "id": "j9FJVdgWavT8",
        "colab_type": "code",
        "colab": {
          "base_uri": "https://localhost:8080/",
          "height": 84
        },
        "outputId": "7f878b49-810d-4983-c5b3-bc14ec98bf73"
      },
      "source": [
        "def compound_interest(principle, rate, time): \n",
        "    CI = principle * (pow((1 + rate / 100), time))  \n",
        "    print(\"Compound interest is\", CI) \n",
        "p=int(input(\"enter p value: \")) \n",
        "n=int(input(\"enter n value: \")) \n",
        "r=float(input(\"enter r value: \"))\n",
        "compound_interest(p, r, n) \n"
      ],
      "execution_count": 2,
      "outputs": [
        {
          "output_type": "stream",
          "text": [
            "enter p value: 1300\n",
            "enter n value: 4\n",
            "enter r value: 6\n",
            "Compound interest is 1641.2200480000004\n"
          ],
          "name": "stdout"
        }
      ]
    },
    {
      "cell_type": "markdown",
      "metadata": {
        "id": "LWExufSmcQXP",
        "colab_type": "text"
      },
      "source": [
        ""
      ]
    }
  ]
}